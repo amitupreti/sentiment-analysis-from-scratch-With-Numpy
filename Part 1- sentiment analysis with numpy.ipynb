{
 "cells": [
  {
   "cell_type": "markdown",
   "metadata": {},
   "source": [
    "# Reading the reviews and Label"
   ]
  },
  {
   "cell_type": "code",
   "execution_count": 7,
   "metadata": {},
   "outputs": [
    {
     "name": "stdout",
     "output_type": "stream",
     "text": [
      "------------Review1----------\n",
      "bromwell high is a cartoon comedy . it ran at the same time as some other programs about school life  such as  teachers  . my   years in the teaching profession lead me to believe that bromwell high  s satire is much closer to reality than is  teachers  . the scramble to survive financially  the insightful students who can see right through their pathetic teachers  pomp  the pettiness of the whole situation  all remind me of the schools i knew and their students . when i saw the episode in which a student repeatedly tried to burn down the school  i immediately recalled . . . . . . . . . at . . . . . . . . . . high . a classic line inspector i  m here to sack one of your teachers . student welcome to bromwell high . i expect that many adults of my age think that bromwell high is far fetched . what a pity that it isn  t   \n",
      "\n",
      "------------Label1----------\n",
      "positive\n"
     ]
    }
   ],
   "source": [
    "with open('reviews.txt','r') as f:\n",
    "    reviews_raw = f.read().splitlines()\n",
    "with open('labels.txt','r') as f:\n",
    "    labels_raw = f.read().splitlines()\n",
    "\n",
    "print('------'*2+'Review1'+'-----'*2)\n",
    "print(reviews_raw[0])\n",
    "\n",
    "print('\\n'+'------'*2+'Label1'+'-----'*2)\n",
    "print(labels_raw[0])"
   ]
  },
  {
   "cell_type": "code",
   "execution_count": 13,
   "metadata": {},
   "outputs": [],
   "source": [
    "#### A function to preety print review and label\n",
    "\n",
    "def pretty_print_review_and_label(index):\n",
    "    print(f'{labels_raw[index]}\\t:\\t{reviews_raw[index][:80]} ...')"
   ]
  },
  {
   "cell_type": "code",
   "execution_count": 19,
   "metadata": {},
   "outputs": [
    {
     "name": "stdout",
     "output_type": "stream",
     "text": [
      "negative\t:\tstory of a man who has unnatural feelings for a pig . starts out with a opening  ...\n",
      "positive\t:\ti find it so amazing that even after all these years  we are still talking about ...\n",
      "negative\t:\twhen i was   i saw the documentary  a funny thing happened on the way to the moo ...\n",
      "positive\t:\tanother one for the babes  bullets crowd . the story is much edgier than any oth ...\n"
     ]
    }
   ],
   "source": [
    "pretty_print_review_and_label(1)\n",
    "pretty_print_review_and_label(100)\n",
    "pretty_print_review_and_label(1401)\n",
    "pretty_print_review_and_label(10000)"
   ]
  },
  {
   "cell_type": "markdown",
   "metadata": {},
   "source": [
    "### Develop A predictive Theory"
   ]
  },
  {
   "cell_type": "markdown",
   "metadata": {},
   "source": [
    "###### Here we are supposed to check the dataset and try to figure out what makes the review postive or negative. Looking at few samples an idea that seems likely is that positive reviews  have more number of positive words such as \"great\",\"amazing\",\"loved\" and negative reviews have more number of negative words such as \"hate\",\"terrible\"\n",
    "\n"
   ]
  },
  {
   "cell_type": "markdown",
   "metadata": {},
   "source": [
    "### Validating our Theory"
   ]
  },
  {
   "cell_type": "code",
   "execution_count": null,
   "metadata": {},
   "outputs": [],
   "source": []
  }
 ],
 "metadata": {
  "kernelspec": {
   "display_name": "ML",
   "language": "python",
   "name": "ml"
  },
  "language_info": {
   "codemirror_mode": {
    "name": "ipython",
    "version": 3
   },
   "file_extension": ".py",
   "mimetype": "text/x-python",
   "name": "python",
   "nbconvert_exporter": "python",
   "pygments_lexer": "ipython3",
   "version": "3.6.7"
  }
 },
 "nbformat": 4,
 "nbformat_minor": 2
}
