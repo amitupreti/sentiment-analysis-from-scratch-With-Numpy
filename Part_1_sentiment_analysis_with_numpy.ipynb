{
 "cells": [
  {
   "cell_type": "markdown",
   "metadata": {
    "colab_type": "text",
    "id": "view-in-github"
   },
   "source": [
    "<a href=\"https://colab.research.google.com/github/amitupreti/sentiment-analysis-from-scratch-With-Numpy/blob/master/Part_1_sentiment_analysis_with_numpy.ipynb\" target=\"_parent\"><img src=\"https://colab.research.google.com/assets/colab-badge.svg\" alt=\"Open In Colab\"/></a>"
   ]
  },
  {
   "cell_type": "markdown",
   "metadata": {
    "colab_type": "text",
    "id": "ea18mdD5LjfR"
   },
   "source": [
    "## 1. Reading the reviews and Label"
   ]
  },
  {
   "cell_type": "code",
   "execution_count": null,
   "metadata": {},
   "outputs": [],
   "source": [
    "!"
   ]
  },
  {
   "cell_type": "code",
   "execution_count": 1,
   "metadata": {
    "colab": {
     "base_uri": "https://localhost:8080/",
     "height": 122
    },
    "colab_type": "code",
    "id": "uxoR1vOsLjfU",
    "outputId": "df9935a5-e891-4674-c955-a89e2529b39d"
   },
   "outputs": [
    {
     "name": "stdout",
     "output_type": "stream",
     "text": [
      "------------Review1----------\n",
      "bromwell high is a cartoon comedy . it ran at the same time as some other programs about school life  such as  teachers  . my   years in the teaching profession lead me to believe that bromwell high  s satire is much closer to reality than is  teachers  . the scramble to survive financially  the insightful students who can see right through their pathetic teachers  pomp  the pettiness of the whole situation  all remind me of the schools i knew and their students . when i saw the episode in which a student repeatedly tried to burn down the school  i immediately recalled . . . . . . . . . at . . . . . . . . . . high . a classic line inspector i  m here to sack one of your teachers . student welcome to bromwell high . i expect that many adults of my age think that bromwell high is far fetched . what a pity that it isn  t   \n",
      "\n",
      "------------Label1----------\n",
      "POSITIVE\n"
     ]
    }
   ],
   "source": [
    "with open('reviews.txt','r') as f:\n",
    "    reviews_raw = f.read().splitlines()\n",
    "with open('labels.txt','r') as f:\n",
    "    labels_raw = f.read().upper().splitlines()\n",
    "\n",
    "print('------'*2+'Review1'+'-----'*2)\n",
    "print(reviews_raw[0])\n",
    "\n",
    "print('\\n'+'------'*2+'Label1'+'-----'*2)\n",
    "print(labels_raw[0])"
   ]
  },
  {
   "cell_type": "code",
   "execution_count": 2,
   "metadata": {
    "colab": {},
    "colab_type": "code",
    "id": "w1Xv1210LjfZ"
   },
   "outputs": [],
   "source": [
    "#### A function to preety print review and label\n",
    "\n",
    "def pretty_print_review_and_label(index):\n",
    "    print(f'{labels_raw[index]}\\t:\\t{reviews_raw[index][:80]} ...')"
   ]
  },
  {
   "cell_type": "code",
   "execution_count": 3,
   "metadata": {
    "colab": {
     "base_uri": "https://localhost:8080/",
     "height": 105
    },
    "colab_type": "code",
    "id": "4i3tXPMzLjfc",
    "outputId": "5846d311-cbe8-4863-cf3f-67f456b70818"
   },
   "outputs": [
    {
     "name": "stdout",
     "output_type": "stream",
     "text": [
      "NEGATIVE\t:\tstory of a man who has unnatural feelings for a pig . starts out with a opening  ...\n",
      "POSITIVE\t:\ti find it so amazing that even after all these years  we are still talking about ...\n",
      "NEGATIVE\t:\twhen i was   i saw the documentary  a funny thing happened on the way to the moo ...\n",
      "POSITIVE\t:\tanother one for the babes  bullets crowd . the story is much edgier than any oth ...\n"
     ]
    }
   ],
   "source": [
    "pretty_print_review_and_label(1)\n",
    "pretty_print_review_and_label(100)\n",
    "pretty_print_review_and_label(1401)\n",
    "pretty_print_review_and_label(10000)"
   ]
  },
  {
   "cell_type": "markdown",
   "metadata": {
    "colab_type": "text",
    "id": "WKZ1fCFrLjff"
   },
   "source": [
    "### 1.1 Develop A predictive Theory"
   ]
  },
  {
   "cell_type": "markdown",
   "metadata": {
    "colab_type": "text",
    "id": "aOP7o269Ljfg"
   },
   "source": [
    "###### Here we are supposed to check the dataset and try to figure out what makes the review postive or negative. Looking at few samples an idea that seems likely is that positive reviews  have more number of positive words such as \"great\",\"amazing\",\"loved\" and negative reviews have more number of negative words such as \"hate\",\"terrible\"\n",
    "\n"
   ]
  },
  {
   "cell_type": "markdown",
   "metadata": {
    "colab_type": "text",
    "id": "1MHdhdCJLjfh"
   },
   "source": [
    "### 1.2 Validating our Theory"
   ]
  },
  {
   "cell_type": "markdown",
   "metadata": {
    "colab_type": "text",
    "id": "rkOakWSoLjfi"
   },
   "source": [
    "##### Here we will create two dictionary which will contain the frequency of each word in positive and negative review\n",
    "1. positive_counts \n",
    "2. negatice_counts\n",
    "\n",
    "also a third dictionary(total_counts) to hold count of all the words\n"
   ]
  },
  {
   "cell_type": "code",
   "execution_count": 4,
   "metadata": {
    "colab": {},
    "colab_type": "code",
    "id": "3S9M_y_NLjfj"
   },
   "outputs": [],
   "source": [
    "from collections import Counter\n",
    "import numpy as np"
   ]
  },
  {
   "cell_type": "code",
   "execution_count": 8,
   "metadata": {
    "colab": {},
    "colab_type": "code",
    "id": "LC2fmkPPLjfm"
   },
   "outputs": [],
   "source": [
    "positive_counts = Counter()\n",
    "negative_counts = Counter()\n",
    "total_counts = Counter()\n",
    "\n",
    "for i,curr_label in enumerate(labels_raw):\n",
    "    curr_review = reviews_raw[i]\n",
    "    for word in curr_review.split(\" \"):\n",
    "        if curr_label == 'POSITIVE':\n",
    "            positive_counts[word] += 1\n",
    "        elif curr_label == 'NEGATIVE':\n",
    "            negative_counts[word] += 1\n",
    "        total_counts[word] += 1\n",
    "    \n",
    "        "
   ]
  },
  {
   "cell_type": "markdown",
   "metadata": {
    "colab_type": "text",
    "id": "ODP_UTV7Ljfp"
   },
   "source": [
    "Lets view the most common words in our postive and negative reviews.m"
   ]
  },
  {
   "cell_type": "code",
   "execution_count": 9,
   "metadata": {
    "colab": {
     "base_uri": "https://localhost:8080/",
     "height": 357
    },
    "colab_type": "code",
    "id": "bLolxSHmLjfq",
    "outputId": "bb634caf-22b0-4037-e211-507f3456709c"
   },
   "outputs": [
    {
     "data": {
      "text/plain": [
       "[('', 550468),\n",
       " ('the', 173324),\n",
       " ('.', 159654),\n",
       " ('and', 89722),\n",
       " ('a', 83688),\n",
       " ('of', 76855),\n",
       " ('to', 66746),\n",
       " ('is', 57245),\n",
       " ('in', 50215),\n",
       " ('br', 49235),\n",
       " ('it', 48025),\n",
       " ('i', 40743),\n",
       " ('that', 35630),\n",
       " ('this', 35080),\n",
       " ('s', 33815),\n",
       " ('as', 26308),\n",
       " ('with', 23247),\n",
       " ('for', 22416),\n",
       " ('was', 21917),\n",
       " ('film', 20937)]"
      ]
     },
     "execution_count": 9,
     "metadata": {},
     "output_type": "execute_result"
    }
   ],
   "source": [
    "positive_counts.most_common(20)"
   ]
  },
  {
   "cell_type": "code",
   "execution_count": 10,
   "metadata": {
    "colab": {
     "base_uri": "https://localhost:8080/",
     "height": 357
    },
    "colab_type": "code",
    "id": "r5-iINBOLjft",
    "outputId": "f770f368-a77d-4752-c6e9-dcea82f8e331"
   },
   "outputs": [
    {
     "data": {
      "text/plain": [
       "[('', 561462),\n",
       " ('.', 167538),\n",
       " ('the', 163389),\n",
       " ('a', 79321),\n",
       " ('and', 74385),\n",
       " ('of', 69009),\n",
       " ('to', 68974),\n",
       " ('br', 52637),\n",
       " ('is', 50083),\n",
       " ('it', 48327),\n",
       " ('i', 46880),\n",
       " ('in', 43753),\n",
       " ('this', 40920),\n",
       " ('that', 37615),\n",
       " ('s', 31546),\n",
       " ('was', 26291),\n",
       " ('movie', 24965),\n",
       " ('for', 21927),\n",
       " ('but', 21781),\n",
       " ('with', 20878)]"
      ]
     },
     "execution_count": 10,
     "metadata": {},
     "output_type": "execute_result"
    }
   ],
   "source": [
    "negative_counts.most_common(20)"
   ]
  },
  {
   "cell_type": "code",
   "execution_count": 11,
   "metadata": {
    "colab": {},
    "colab_type": "code",
    "id": "I4Gz2_jbLjfv"
   },
   "outputs": [],
   "source": [
    "## we can see that the most repeated words are \"the\", \".\", \"to\"  etc \n",
    "#which might not best reflect the sentiment of the review\n",
    "\n",
    "## so now we will try to find words that appear more often on positive reviews than negative reviews and vice versa\n",
    "#to accomplish this, you'll need to calculate the ratios of word usage between positive and negative reviews."
   ]
  },
  {
   "cell_type": "code",
   "execution_count": 12,
   "metadata": {
    "colab": {},
    "colab_type": "code",
    "id": "3BUF7hk-Ljfy"
   },
   "outputs": [],
   "source": [
    "pos_neg_ratios = Counter()\n",
    "for word,count in total_counts.items():\n",
    "    if count >100: # considering words that are at least repeated 100 times\n",
    "        pos_neg_ratios[word] = positive_counts[word]/(1+negative_counts[word])"
   ]
  },
  {
   "cell_type": "code",
   "execution_count": 13,
   "metadata": {
    "colab": {},
    "colab_type": "code",
    "id": "JtVQGVXULjf1"
   },
   "outputs": [],
   "source": [
    "# pos_neg_ratios"
   ]
  },
  {
   "cell_type": "code",
   "execution_count": 14,
   "metadata": {
    "colab": {
     "base_uri": "https://localhost:8080/",
     "height": 68
    },
    "colab_type": "code",
    "id": "E46wZQXtLjf4",
    "outputId": "80573bf1-c12c-4804-f69a-d4d9b95ea0f6"
   },
   "outputs": [
    {
     "name": "stdout",
     "output_type": "stream",
     "text": [
      "Positive to negative ratio for word \"the\" 1.0607993145235326\n",
      "Positive to negative ratio for word \"amazing\" 4.022813688212928\n",
      "Positive to negative ratio for word \"terrible\" 0.17744252873563218\n"
     ]
    }
   ],
   "source": [
    "print(f'Positive to negative ratio for word \"the\" {pos_neg_ratios[\"the\"]}')\n",
    "print(f'Positive to negative ratio for word \"amazing\" {pos_neg_ratios[\"amazing\"]}')\n",
    "print(f'Positive to negative ratio for word \"terrible\" {pos_neg_ratios[\"terrible\"]}')"
   ]
  },
  {
   "cell_type": "code",
   "execution_count": 15,
   "metadata": {
    "colab": {},
    "colab_type": "code",
    "id": "r_MHF1gKLjf6"
   },
   "outputs": [],
   "source": [
    "## we can see that the words which we expect to be positive have higher  positive to negative values than 1 and the words which we expect\n",
    "## to be negative have values close to 0\n",
    "## and the words that mostly donot convey sentiments have value close to 1\n",
    "\n",
    "## This kind of validates our theory\n",
    "\n",
    "### this positive to negative ratio can be an estimate for us to tell if the word is positive or negative"
   ]
  },
  {
   "cell_type": "code",
   "execution_count": 16,
   "metadata": {
    "colab": {
     "base_uri": "https://localhost:8080/",
     "height": 34
    },
    "colab_type": "code",
    "id": "QQJxcVlxLjf9",
    "outputId": "d5e5d736-9816-405b-b3bb-fcc881be3962"
   },
   "outputs": [
    {
     "data": {
      "text/plain": [
       "0.2576330721426641"
      ]
     },
     "execution_count": 16,
     "metadata": {},
     "output_type": "execute_result"
    }
   ],
   "source": [
    "pos_neg_ratios['bad']"
   ]
  },
  {
   "cell_type": "code",
   "execution_count": 17,
   "metadata": {
    "colab": {
     "base_uri": "https://localhost:8080/",
     "height": 34
    },
    "colab_type": "code",
    "id": "ejOc8cRNLjgA",
    "outputId": "d736e865-96f0-46b7-8d66-cfb0e7e17a58"
   },
   "outputs": [
    {
     "data": {
      "text/plain": [
       "1.9976776590803529"
      ]
     },
     "execution_count": 17,
     "metadata": {},
     "output_type": "execute_result"
    }
   ],
   "source": [
    "pos_neg_ratios['love']"
   ]
  },
  {
   "cell_type": "markdown",
   "metadata": {
    "colab_type": "text",
    "id": "EtrNUAQgLjgD"
   },
   "source": [
    "Looking closely at the values you just calculated, we see the following:\n",
    "\n",
    "* Words that you would expect to see more often in positive reviews – like \"amazing\" – have a ratio greater than 1. The more skewed a word is toward postive, the farther from 1 its positive-to-negative ratio will be.\n",
    "* Words that you would expect to see more often in negative reviews – like \"terrible\" – have positive values that are less than 1. The more skewed a word is toward negative, the closer to zero its positive-to-negative ratio will be.\n",
    "* Neutral words, which don't really convey any sentiment because you would expect to see them in all sorts of reviews – like \"the\" – have values very close to 1. A perfectly neutral word – one that was used in exactly the same number of positive reviews as negative reviews – would be almost exactly 1. The +1 we suggested you add to the denominator slightly biases words toward negative, but it won't matter because it will be a tiny bias and later we'll be ignoring words that are too close to neutral anyway.\n",
    "\n",
    "Ok, the ratios tell us which words are used more often in postive or negative reviews, but the specific values we've calculated are a bit difficult to work with. A very positive word like \"amazing\" has a value above 4, whereas a very negative word like \"terrible\" has a value around 0.18. Those values aren't easy to compare for a couple of reasons:\n",
    "\n",
    "* Right now, 1 is considered neutral, but the absolute value of the postive-to-negative rations of very postive words is larger than the absolute value of the ratios for the very negative words. So there is no way to directly compare two numbers and see if one word conveys the same magnitude of positive sentiment as another word conveys negative sentiment. So we should center all the values around netural so the absolute value fro neutral of the postive-to-negative ratio for a word would indicate how much sentiment (positive or negative) that word conveys.\n",
    "* When comparing absolute values it's easier to do that around zero than one.* "
   ]
  },
  {
   "cell_type": "code",
   "execution_count": 18,
   "metadata": {
    "colab": {},
    "colab_type": "code",
    "id": "hZdOh0PVLjgE"
   },
   "outputs": [],
   "source": [
    "## Now we will convert the rations to logarithm so that the values can be centered around zero"
   ]
  },
  {
   "cell_type": "code",
   "execution_count": 19,
   "metadata": {
    "colab": {},
    "colab_type": "code",
    "id": "GoZ6rGGeLjgG"
   },
   "outputs": [],
   "source": [
    "for word,value in pos_neg_ratios.most_common():\n",
    "    pos_neg_ratios[word] = np.log(value)"
   ]
  },
  {
   "cell_type": "code",
   "execution_count": 20,
   "metadata": {
    "colab": {
     "base_uri": "https://localhost:8080/",
     "height": 68
    },
    "colab_type": "code",
    "id": "XqPDKfg7LjgJ",
    "outputId": "0d2f98a4-7492-4f25-8010-c97ae86e1392"
   },
   "outputs": [
    {
     "name": "stdout",
     "output_type": "stream",
     "text": [
      "Positive to negative ratio for word \"the\" 0.05902269426102881\n",
      "Positive to negative ratio for word \"amazing\" 1.3919815802404802\n",
      "Positive to negative ratio for word \"terrible\" -1.7291085042663878\n"
     ]
    }
   ],
   "source": [
    "print(f'Positive to negative ratio for word \"the\" {pos_neg_ratios[\"the\"]}')\n",
    "print(f'Positive to negative ratio for word \"amazing\" {pos_neg_ratios[\"amazing\"]}')\n",
    "print(f'Positive to negative ratio for word \"terrible\" {pos_neg_ratios[\"terrible\"]}')"
   ]
  },
  {
   "cell_type": "code",
   "execution_count": 21,
   "metadata": {
    "colab": {},
    "colab_type": "code",
    "id": "qX_pewWrLjgM"
   },
   "outputs": [],
   "source": [
    "## Here we can see neutral words have value close to zero\n",
    "## negative words have negative values\n",
    "## and postitive words have postivive values"
   ]
  },
  {
   "cell_type": "code",
   "execution_count": 22,
   "metadata": {
    "colab": {
     "base_uri": "https://localhost:8080/",
     "height": 527
    },
    "colab_type": "code",
    "id": "oageotcmLjgQ",
    "outputId": "653ab4ce-3209-4b32-9cef-6020eb45a98a"
   },
   "outputs": [
    {
     "data": {
      "text/plain": [
       "[('edie', 4.6913478822291435),\n",
       " ('paulie', 4.07753744390572),\n",
       " ('felix', 3.152736022363656),\n",
       " ('polanski', 2.8233610476132043),\n",
       " ('matthau', 2.80672172860924),\n",
       " ('victoria', 2.681021528714291),\n",
       " ('mildred', 2.6026896854443837),\n",
       " ('gandhi', 2.538973871058276),\n",
       " ('flawless', 2.451005098112319),\n",
       " ('superbly', 2.26002547857525),\n",
       " ('perfection', 2.159484249353372),\n",
       " ('astaire', 2.1400661634962708),\n",
       " ('captures', 2.038619547159581),\n",
       " ('voight', 2.030170492673053),\n",
       " ('wonderfully', 2.0218960560332353),\n",
       " ('powell', 1.978345424808467),\n",
       " ('brosnan', 1.9547990964725592),\n",
       " ('lily', 1.9203768470501485),\n",
       " ('bakshi', 1.9029851043382795),\n",
       " ('lincoln', 1.9014583864844796),\n",
       " ('refreshing', 1.8551812956655511),\n",
       " ('breathtaking', 1.8481124057791867),\n",
       " ('bourne', 1.8478489358790986),\n",
       " ('lemmon', 1.8458266904983307),\n",
       " ('delightful', 1.8002701588959635),\n",
       " ('flynn', 1.7996646487351682),\n",
       " ('andrews', 1.7764919970972666),\n",
       " ('homer', 1.7692866133759964),\n",
       " ('beautifully', 1.7626953362841438),\n",
       " ('soccer', 1.7578579175523736)]"
      ]
     },
     "execution_count": 22,
     "metadata": {},
     "output_type": "execute_result"
    }
   ],
   "source": [
    "pos_neg_ratios.most_common(30) ## top 30 positive words"
   ]
  },
  {
   "cell_type": "code",
   "execution_count": 23,
   "metadata": {
    "colab": {
     "base_uri": "https://localhost:8080/",
     "height": 527
    },
    "colab_type": "code",
    "id": "ZV_m7G4ULjgU",
    "outputId": "dabb66e9-7a50-47e6-8d00-ff82f3c34c55"
   },
   "outputs": [
    {
     "data": {
      "text/plain": [
       "[('boll', -4.969813299576001),\n",
       " ('uwe', -4.624972813284271),\n",
       " ('seagal', -3.644143560272545),\n",
       " ('unwatchable', -3.258096538021482),\n",
       " ('stinker', -3.2088254890146994),\n",
       " ('mst', -2.9502698994772336),\n",
       " ('incoherent', -2.9368917735310576),\n",
       " ('unfunny', -2.6922395950755678),\n",
       " ('waste', -2.6193845640165536),\n",
       " ('blah', -2.5704288232261625),\n",
       " ('horrid', -2.4849066497880004),\n",
       " ('pointless', -2.4553061800117097),\n",
       " ('atrocious', -2.4259083090260445),\n",
       " ('redeeming', -2.3682390632154826),\n",
       " ('prom', -2.3608540011180215),\n",
       " ('drivel', -2.3470368555648795),\n",
       " ('lousy', -2.307572634505085),\n",
       " ('worst', -2.286987896180378),\n",
       " ('laughable', -2.264363880173848),\n",
       " ('awful', -2.227194247027435),\n",
       " ('poorly', -2.2207550747464135),\n",
       " ('wasting', -2.204604684633842),\n",
       " ('remotely', -2.1972245773362196),\n",
       " ('existent', -2.0794415416798357),\n",
       " ('boredom', -1.995100393246085),\n",
       " ('miserably', -1.9924301646902063),\n",
       " ('sucks', -1.987068221548821),\n",
       " ('uninspired', -1.9832976811269336),\n",
       " ('lame', -1.981767458946166),\n",
       " ('insult', -1.978345424808467)]"
      ]
     },
     "execution_count": 23,
     "metadata": {},
     "output_type": "execute_result"
    }
   ],
   "source": [
    "pos_neg_ratios.most_common()[:-31:-1] # 30 most negative words"
   ]
  },
  {
   "cell_type": "code",
   "execution_count": null,
   "metadata": {
    "colab": {},
    "colab_type": "code",
    "id": "y7saI_GCLjgW"
   },
   "outputs": [],
   "source": []
  },
  {
   "cell_type": "markdown",
   "metadata": {
    "colab_type": "text",
    "id": "cc8cOZkZLjgd"
   },
   "source": [
    "## 2. Transforming Text into Numbers"
   ]
  },
  {
   "cell_type": "markdown",
   "metadata": {
    "colab_type": "text",
    "id": "w-qpPpe3Ljge"
   },
   "source": [
    "We know that neural networks are just matrix multiplications and we can't perform these matrix multiplications on text data . so now we will have to convert the text input to numerical input\n",
    "\n",
    "We will create a big 1d array of for all the words that we have from both positive and negative reviews.\n",
    "\n",
    "so for each input, we will assign 1 to if that word is found in our big 1d array and leave others as zero\n",
    "\n",
    "Also, for output we will use 0 to indicate negative sentiment and 1 to indicate positive sentiment"
   ]
  },
  {
   "cell_type": "code",
   "execution_count": 24,
   "metadata": {
    "colab": {
     "base_uri": "https://localhost:8080/",
     "height": 340
    },
    "colab_type": "code",
    "id": "lbel-7pvLjgf",
    "outputId": "910f42d7-fca9-49a9-8e05-fdaf7b55a08e"
   },
   "outputs": [
    {
     "data": {
      "image/png": "[encoded data removed]",
      "text/plain": [
       "<IPython.core.display.Image object>"
      ]
     },
     "execution_count": 24,
     "metadata": {},
     "output_type": "execute_result"
    }
   ],
   "source": [
    "from IPython.display import Image\n",
    "\n",
    "review = \"This was a horrible, terrible movie.\"\n",
    "\n",
    "Image(filename='sentiment_network.png')"
   ]
  },
  {
   "cell_type": "code",
   "execution_count": 25,
   "metadata": {
    "colab": {
     "base_uri": "https://localhost:8080/",
     "height": 340
    },
    "colab_type": "code",
    "id": "WT21Sib9Ljgi",
    "outputId": "6f519102-8547-408f-92c0-5a0ff9f4944b"
   },
   "outputs": [
    {
     "data": {
      "image/png": "[encoded data removed]",
      "text/plain": [
       "<IPython.core.display.Image object>"
      ]
     },
     "execution_count": 25,
     "metadata": {},
     "output_type": "execute_result"
    }
   ],
   "source": [
    "review = \"The movie was excellent\"\n",
    "\n",
    "Image(filename='sentiment_network_pos.png')"
   ]
  },
  {
   "cell_type": "code",
   "execution_count": 26,
   "metadata": {
    "colab": {
     "base_uri": "https://localhost:8080/",
     "height": 34
    },
    "colab_type": "code",
    "id": "vPm0fcHPLjgl",
    "outputId": "32d9841e-7af2-4737-d318-5a0d9ffab7f3"
   },
   "outputs": [
    {
     "data": {
      "text/plain": [
       "74074"
      ]
     },
     "execution_count": 26,
     "metadata": {},
     "output_type": "execute_result"
    }
   ],
   "source": [
    "# llets create a set called vocab that lists all the words\n",
    "vocab = set(total_counts.keys())\n",
    "vocab_size = len(vocab)\n",
    "vocab_size"
   ]
  },
  {
   "cell_type": "code",
   "execution_count": 27,
   "metadata": {
    "colab": {
     "base_uri": "https://localhost:8080/",
     "height": 394
    },
    "colab_type": "code",
    "id": "kJiftju4Ljgn",
    "outputId": "22b24ed6-ca14-4600-e3f9-fa69f5cc0cc1"
   },
   "outputs": [
    {
     "data": {
      "image/png": "[encoded data removed]",
      "text/plain": [
       "<IPython.core.display.Image object>"
      ]
     },
     "execution_count": 27,
     "metadata": {},
     "output_type": "execute_result"
    }
   ],
   "source": [
    "from IPython.display import Image\n",
    "Image(filename='sentiment_network_2.png')\n",
    "\n",
    "#Take a look at the following image. It represents the layers of the neural network you'll be building \n",
    "#throughout this notebook. layer_0 is the input layer, layer_1 is a hidden layer, \n",
    "#and layer_2 is the output layer.\n",
    "\n"
   ]
  },
  {
   "cell_type": "code",
   "execution_count": 28,
   "metadata": {
    "colab": {
     "base_uri": "https://localhost:8080/",
     "height": 34
    },
    "colab_type": "code",
    "id": "j8NXk4yOLjgq",
    "outputId": "6d513794-4aff-4fa3-96f7-171b725b7ed8"
   },
   "outputs": [
    {
     "data": {
      "text/plain": [
       "(1, 74074)"
      ]
     },
     "execution_count": 28,
     "metadata": {},
     "output_type": "execute_result"
    }
   ],
   "source": [
    "# defining the first input layer for our neural network. this is of the size of our all the words in our data corpus\n",
    "layer_0 = np.zeros((1,vocab_size))\n",
    "layer_0.shape\n"
   ]
  },
  {
   "cell_type": "code",
   "execution_count": 29,
   "metadata": {
    "colab": {
     "base_uri": "https://localhost:8080/",
     "height": 323
    },
    "colab_type": "code",
    "id": "dfZryiFReIXh",
    "outputId": "1469038c-de5b-4332-e95e-e0fd38b51c30"
   },
   "outputs": [
    {
     "data": {
      "image/png": "[encoded data removed]",
      "text/plain": [
       "<IPython.core.display.Image object>"
      ]
     },
     "execution_count": 29,
     "metadata": {},
     "output_type": "execute_result"
    }
   ],
   "source": [
    "from IPython.display import Image\n",
    "Image(filename='sentiment_network.png')"
   ]
  },
  {
   "cell_type": "code",
   "execution_count": 30,
   "metadata": {
    "colab": {},
    "colab_type": "code",
    "id": "rc25DHUcfvuA"
   },
   "outputs": [],
   "source": [
    "#now we will create a lookup dictionary that maps all the text in our data corpus to their position, so that we can lookup the index of every word\n",
    "word2index = {}\n",
    "for i,word in enumerate(vocab):\n",
    "  word2index[word] = i\n",
    "\n"
   ]
  },
  {
   "cell_type": "code",
   "execution_count": 31,
   "metadata": {
    "colab": {
     "base_uri": "https://localhost:8080/",
     "height": 187
    },
    "colab_type": "code",
    "id": "p8SOF4RqgHsz",
    "outputId": "4b7103e3-8d7d-42c8-a8fb-c54061827795"
   },
   "outputs": [
    {
     "data": {
      "text/plain": [
       "{'': 0,\n",
       " 'purchased': 1,\n",
       " 'bowlers': 2,\n",
       " 'transitted': 3,\n",
       " 'pain': 4,\n",
       " 'caricature': 5,\n",
       " 'hollering': 6,\n",
       " 'srtikes': 7,\n",
       " 'toyoko': 8,\n",
       " 'skull': 9}"
      ]
     },
     "execution_count": 31,
     "metadata": {},
     "output_type": "execute_result"
    }
   ],
   "source": [
    "# viewing a slice of our word to index mapping\n",
    "# https://stackoverflow.com/questions/7971618/python-return-first-n-keyvalue-pairs-from-dict\n",
    "{k: word2index[k] for k in list(word2index)[:10]}"
   ]
  },
  {
   "cell_type": "code",
   "execution_count": 32,
   "metadata": {
    "colab": {},
    "colab_type": "code",
    "id": "7PPw_EOlgLuF"
   },
   "outputs": [],
   "source": [
    "# update_input_layer function\n",
    "'''\n",
    "\n",
    "TODO: Complete the implementation of update_input_layer. It should count how many times each word is used in the given review, and then store those counts at the appropriate indices inside layer_0.\n",
    "'''\n",
    "def update_input_layer(review):\n",
    "\n",
    "  \"\"\"\n",
    "  Modifies the global layer_0 to represent the vector form of  review.\n",
    "  The element at a given index of layer_0 represents\n",
    "  how many times the word has occured in the review.\n",
    "\n",
    "  Args:\n",
    "       review(string) -  the string of the review\n",
    "  Returns:\n",
    "       None\n",
    "  \"\"\"\n",
    "  # why using global function not local function??/?\n",
    "  global layer_0\n",
    "  layer_0 *= 0 \n",
    "  for word in review.split(' '):\n",
    "    layer_0[0][word2index[word]] += 1"
   ]
  },
  {
   "cell_type": "code",
   "execution_count": 33,
   "metadata": {
    "colab": {
     "base_uri": "https://localhost:8080/",
     "height": 34
    },
    "colab_type": "code",
    "id": "MiK8-gqDiJbP",
    "outputId": "5d138d3b-704d-4dd8-bfa9-4d7576577e5c"
   },
   "outputs": [
    {
     "data": {
      "text/plain": [
       "array([[18.,  0.,  0., ...,  0.,  0.,  0.]])"
      ]
     },
     "execution_count": 33,
     "metadata": {},
     "output_type": "execute_result"
    }
   ],
   "source": [
    "update_input_layer(reviews_raw[0])\n",
    "layer_0"
   ]
  },
  {
   "cell_type": "code",
   "execution_count": 34,
   "metadata": {
    "colab": {},
    "colab_type": "code",
    "id": "5K2Ip999jCLY"
   },
   "outputs": [],
   "source": [
    "def get_target_for_label(label):\n",
    "  \"\"\"\n",
    "  Converrts a label to 0 or 1\n",
    "  Args:\n",
    "    label(string) - \"POSITIVE\" or NEGATIVE\n",
    "  Returns:\n",
    "     0 or 1\n",
    "  \"\"\"\n",
    "  label = label.upper()\n",
    "  if label == 'POSITIVE':\n",
    "    return 1\n",
    "  else:\n",
    "    return 0"
   ]
  },
  {
   "cell_type": "code",
   "execution_count": 35,
   "metadata": {
    "colab": {
     "base_uri": "https://localhost:8080/",
     "height": 34
    },
    "colab_type": "code",
    "id": "MkCL4cd3jTEI",
    "outputId": "d26f822f-0c7c-477a-b460-9bdae88ecc29"
   },
   "outputs": [
    {
     "data": {
      "text/plain": [
       "'POSITIVE'"
      ]
     },
     "execution_count": 35,
     "metadata": {},
     "output_type": "execute_result"
    }
   ],
   "source": [
    "labels_raw[0]\n",
    "\n"
   ]
  },
  {
   "cell_type": "code",
   "execution_count": 36,
   "metadata": {
    "colab": {
     "base_uri": "https://localhost:8080/",
     "height": 34
    },
    "colab_type": "code",
    "id": "RRm2SAwlk1cz",
    "outputId": "b4eb0d9a-7273-4649-90cc-30c88fa7b15a"
   },
   "outputs": [
    {
     "data": {
      "text/plain": [
       "1"
      ]
     },
     "execution_count": 36,
     "metadata": {},
     "output_type": "execute_result"
    }
   ],
   "source": [
    "get_target_for_label(labels_raw[0])"
   ]
  },
  {
   "cell_type": "markdown",
   "metadata": {
    "colab": {},
    "colab_type": "code",
    "id": "iKIxuLwwk-uq"
   },
   "source": [
    "# coding our neural network"
   ]
  },
  {
   "cell_type": "code",
   "execution_count": 37,
   "metadata": {
    "colab": {},
    "colab_type": "code",
    "id": "kLbDsYu_-_rr"
   },
   "outputs": [],
   "source": [
    "import time\n",
    "import sys\n",
    "import numpy as np\n",
    "\n",
    "\n",
    "class SentimentAnalysisNetwork:\n",
    "\n",
    "    def __init__(self, reviews, labels, hidden_nodes=10, learning_rate=0.10):\n",
    "\n",
    "        \"\"\"\n",
    "        Create a sentimentAnalysisNetwirk with the given settings.\n",
    "        Args:\n",
    "          reviews(list) - list of reviews to be used for training\n",
    "          lables(list) - list of positive/negative labels associated with the given review\n",
    "          hidden_nodes(int) -  number of nodes to create in hidden layer\n",
    "          learning_rate(float) - learning rate to use for training(default = 0.10)\n",
    "\n",
    "        \"\"\"\n",
    "        np.random.seed(1)\n",
    "\n",
    "        # preprocess the reviews-> array and labels(convert positive->1 and negative->0)\n",
    "        self.pre_process_data(reviews=reviews, labels=labels)\n",
    "\n",
    "        # Buid the neural network with the above settings\n",
    "        self.init_network(input_nodes=self.review_vocab_size, hidden_nodes=hidden_nodes, output_nodes=1,\n",
    "                          learning_rate=learning_rate)\n",
    "\n",
    "    def pre_process_data(self, reviews, labels):\n",
    "\n",
    "        # populate review_vocab with all the words from given reviews. This would be a huge list\n",
    "        review_vocab = set()\n",
    "        for review in reviews:\n",
    "            for word in review.split():\n",
    "                review_vocab.add(word)\n",
    "\n",
    "        # convert the review_vocab to set so that we can access word via index and create a mapping\n",
    "        self.review_vocab = list(review_vocab)\n",
    "\n",
    "        # populate label_vocab with all the labels\n",
    "        label_vocab = set()\n",
    "        for label in labels:\n",
    "            label_vocab.add(label)\n",
    "\n",
    "        # convert the label_vocab to list so that we can access using indices\n",
    "        self.label_vocab = list(label_vocab)\n",
    "\n",
    "        # store the length of review and label vocab\n",
    "        self.review_vocab_size = len(self.review_vocab)\n",
    "        self.label_vocab_size = len(self.label_vocab)\n",
    "\n",
    "        # create a dictionary that will map all the words in self.vocab_review to their positions\n",
    "        self.word2index = {}\n",
    "        for i, word in enumerate(self.review_vocab):\n",
    "            self.word2index[word] = i\n",
    "\n",
    "        # create a dictionary of labels mapped to index\n",
    "        self.label2index = {}\n",
    "        for i, label in enumerate(self.label_vocab):\n",
    "            self.label2index[label] = 1\n",
    "\n",
    "    def init_network(self, input_nodes, hidden_nodes, output_nodes, learning_rate):\n",
    "        \"\"\"\n",
    "        Initializes the Neural Netowrk with the provided settings\n",
    "        Args:\n",
    "          input_nodes(int) - size of input node\n",
    "          hidden_nodes(int) - size of hidden node\n",
    "          output_nodes(int) - size of output_node\n",
    "          learning_rate(float) - learning rate to train the neural network\n",
    "        \"\"\"\n",
    "\n",
    "        self.input_nodes = input_nodes\n",
    "        self.hidden_nodes = hidden_nodes\n",
    "        self.output_nodes = output_nodes\n",
    "\n",
    "        # store the learning rate\n",
    "        self.learning_rate = learning_rate\n",
    "\n",
    "        # initialize the weights between the input_layer and hidden_layer\n",
    "        self.weights_0_1 = np.zeros((self.input_nodes, self.hidden_nodes))\n",
    "\n",
    "        # initialize the weights between hidden_node and\n",
    "        # here loc  = mean, scale = standard deviation\n",
    "        self.weights_1_2 = np.random.normal(loc=0.0, scale=self.hidden_nodes ** -0.5,\n",
    "                                            size=(self.hidden_nodes, self.output_nodes))\n",
    "\n",
    "        # the input layerm a two -dimensional matrix with 1 * input_nodes\n",
    "        self.layer_0 = np.zeros((1, input_nodes))\n",
    "\n",
    "    def update_input_layer(self, review):\n",
    "        # clear out previous state, rest the layer to be all 0s\n",
    "        self.layer_0 *= 0\n",
    "        for word in review.split(' '):\n",
    "            if word in self.word2index.keys():\n",
    "                self.layer_0[0][self.word2index[word]] += 1\n",
    "\n",
    "    def get_target_for_label(self, label):\n",
    "        if label == 'POSITIVE':\n",
    "            return 1\n",
    "        else:\n",
    "            return 0\n",
    "\n",
    "    def sigmoid(self, x):\n",
    "        return 1 / (1 + np.exp(-x))\n",
    "\n",
    "    def sigmoid_output_2_derivative(self, output):\n",
    "        return output * (1 - output)\n",
    "\n",
    "    def train(self, training_reviews, training_labels):\n",
    "\n",
    "        # make sure we have a matching number of reviews and labels\n",
    "        assert (len(training_reviews) == len(training_labels))\n",
    "\n",
    "        # keep track of correct predictions to display accuracy during training\n",
    "        correct_so_far = 0\n",
    "\n",
    "        # remember the time when we started time statistics\n",
    "        start = time.time()\n",
    "\n",
    "        # loop through alll the given reviews and run a forward pass and then backward pass\n",
    "        # updating weights for every item\n",
    "        for i in range(len(training_reviews)):\n",
    "\n",
    "            # get the next review and its correct_label\n",
    "            review = training_reviews[i]\n",
    "            label = training_labels[i]\n",
    "\n",
    "            #### forward pass\n",
    "            self.update_input_layer(review)\n",
    "\n",
    "            # hidden layer\n",
    "            layer_1 = self.layer_0.dot(self.weights_0_1)\n",
    "            # output layer\n",
    "            layer_2 = self.sigmoid(layer_1.dot(self.weights_1_2))\n",
    "            # ouput error\n",
    "            layer_2_error = layer_2 - self.get_target_for_label(label)\n",
    "            # output error is difference between desired output and actual output\n",
    "\n",
    "            layer_2_delta = layer_2_error * self.sigmoid_output_2_derivative(layer_2)\n",
    "\n",
    "            # backpropagated error\n",
    "            layer_1_error = layer_2_delta.dot(self.weights_1_2.T)  # errors propagated to the hidden layer\n",
    "            layer_1_delta = layer_1_error  # hidden layer gradients - no nonlinearity so its the same as the error\n",
    "\n",
    "            # update the weights\n",
    "            self.weights_1_2 -= layer_1.T.dot(layer_2_delta) * self.learning_rate  # update hidden to output weights\n",
    "            # with gradient step\n",
    "\n",
    "            self.weights_0_1 -= self.layer_0.T.dot(layer_1_delta) * self.learning_rate  # update input to\n",
    "            # hidden weights with gradient step\n",
    "\n",
    "            # keep track of correct predictions\n",
    "            if layer_2 >= 0.5 and label == 'POSITIVE':\n",
    "                correct_so_far += 1\n",
    "            elif layer_2 < 0.5 and label == 'NEGATIVE':\n",
    "                correct_so_far += 1\n",
    "\n",
    "            # for debugging purposes, print out our prediction accuracy and speed\n",
    "            # thorughout the training process\n",
    "            elapsed_time = float(time.time() - start)\n",
    "            reviews_per_second = i / elapsed_time if elapsed_time > 0 else 0\n",
    "\n",
    "            \n",
    "            if i % 2500 == 0:\n",
    "                sys.stdout.write(f'\\nProgress:{str(100 * i / float(len(training_reviews)))[:4]} %'\n",
    "                             f' Speed(reviews/sec): {str(reviews_per_second)[:4]}'\n",
    "                             f' Correct: {correct_so_far} Trained: {i + 1}'\n",
    "                             f' Training_accuracy: {str(correct_so_far * 100 / float(1 + i))[:3]}'\n",
    "                             )\n",
    "\n",
    "    def test(self, testing_reviews, testing_labels):\n",
    "        \"\"\"\n",
    "        Attempts to predit the label for the given testing reviews\n",
    "        and uses the test_labels to calcualte the accuracy of those prodections.\n",
    "        \"\"\"\n",
    "        # keep track of how many correct predictions we make\n",
    "        correct = 0\n",
    "\n",
    "        # log time to calculate number of reviews processed per second\n",
    "        start = time.time()\n",
    "\n",
    "        # loop through each  of the given review and call run to predict its label\n",
    "        for i in range(len(testing_reviews)):\n",
    "            pred = self.run(testing_reviews[i])\n",
    "            if pred == testing_labels[i]:\n",
    "                correct += 1\n",
    "\n",
    "            # for debug purpose print out our prediction accuracy and speed\n",
    "            elapsed_time = float(time.time() - start)\n",
    "            reviews_per_second = i / elapsed_time if elapsed_time > 0 else 0\n",
    "            \n",
    "            if(i % 2500 == 0):\n",
    "                print(\"\\rProgress:\" + str(100 * i / float(len(testing_reviews)))[:4] \\\n",
    "                             + \"% Speed(reviews/sec):\" + str(reviews_per_second)[0:5] \\\n",
    "                             + \" #Correct:\" + str(correct) + \" #Tested:\" + str(i + 1) \\\n",
    "                             + \" Testing Accuracy:\" + str(correct * 100 / float(i + 1))[:4] + \"%\")\n",
    "\n",
    "    def run(self, review):\n",
    "        \"\"\"\n",
    "        Returns a positive or negative prediction for the given review\n",
    "        \"\"\"\n",
    "\n",
    "        # run a forward pass like in the train function\n",
    "        self.update_input_layer(review.lower())\n",
    "\n",
    "        # hidden layer\n",
    "        layer_1 = self.layer_0.dot(self.weights_0_1)\n",
    "\n",
    "        # output layer\n",
    "        layer_2 = self.sigmoid(layer_1.dot(self.weights_1_2))\n",
    "\n",
    "        if layer_2[0] >= 0.5:\n",
    "            return \"POSITIVE\"\n",
    "        else:\n",
    "            return \"NEGATIVE\"\n"
   ]
  },
  {
   "cell_type": "code",
   "execution_count": 38,
   "metadata": {
    "colab": {},
    "colab_type": "code",
    "id": "9Ytt1v0pFzo-"
   },
   "outputs": [],
   "source": [
    "# Creating our sentiment analysis network for all except last 1000 reviews. they will be used for testing later\n",
    "mlp = SentimentAnalysisNetwork(reviews_raw[:-1000],labels_raw[:-1000], learning_rate=0.1)\n",
    "\n"
   ]
  },
  {
   "cell_type": "code",
   "execution_count": 39,
   "metadata": {
    "colab": {},
    "colab_type": "code",
    "id": "em2EoGVyH7I6"
   },
   "outputs": [
    {
     "name": "stdout",
     "output_type": "stream",
     "text": [
      "Progress:0.0% Speed(reviews/sec):0.0 #Correct:1 #Tested:1 Testing Accuracy:100.%\n",
      "Progress:10.4% Speed(reviews/sec):1731. #Correct:1251 #Tested:2501 Testing Accuracy:50.0%\n",
      "Progress:20.8% Speed(reviews/sec):1806. #Correct:2501 #Tested:5001 Testing Accuracy:50.0%\n",
      "Progress:31.2% Speed(reviews/sec):1884. #Correct:3751 #Tested:7501 Testing Accuracy:50.0%\n",
      "Progress:41.6% Speed(reviews/sec):1950. #Correct:5001 #Tested:10001 Testing Accuracy:50.0%\n",
      "Progress:52.0% Speed(reviews/sec):1984. #Correct:6251 #Tested:12501 Testing Accuracy:50.0%\n",
      "Progress:62.5% Speed(reviews/sec):2006. #Correct:7501 #Tested:15001 Testing Accuracy:50.0%\n",
      "Progress:72.9% Speed(reviews/sec):2012. #Correct:8751 #Tested:17501 Testing Accuracy:50.0%\n",
      "Progress:83.3% Speed(reviews/sec):2014. #Correct:10001 #Tested:20001 Testing Accuracy:50.0%\n",
      "Progress:93.7% Speed(reviews/sec):2017. #Correct:11251 #Tested:22501 Testing Accuracy:50.0%\n"
     ]
    }
   ],
   "source": [
    "mlp.test(reviews_raw[:-1000],labels_raw[:-1000])\n",
    "# since the model is untrained. we should have around 50% acuracy. which is just a random guess"
   ]
  },
  {
   "cell_type": "code",
   "execution_count": 40,
   "metadata": {},
   "outputs": [
    {
     "name": "stdout",
     "output_type": "stream",
     "text": [
      "\n",
      "Progress:0.0 % Speed(reviews/sec): 0.0 Correct: 1 Trained: 1 Training_accuracy: 100\n",
      "Progress:10.4 % Speed(reviews/sec): 544. Correct: 1391 Trained: 2501 Training_accuracy: 55.\n",
      "Progress:20.8 % Speed(reviews/sec): 543. Correct: 3095 Trained: 5001 Training_accuracy: 61.\n",
      "Progress:31.2 % Speed(reviews/sec): 549. Correct: 4933 Trained: 7501 Training_accuracy: 65.\n",
      "Progress:41.6 % Speed(reviews/sec): 555. Correct: 6859 Trained: 10001 Training_accuracy: 68.\n",
      "Progress:52.0 % Speed(reviews/sec): 557. Correct: 8813 Trained: 12501 Training_accuracy: 70.\n",
      "Progress:62.5 % Speed(reviews/sec): 559. Correct: 10765 Trained: 15001 Training_accuracy: 71.\n",
      "Progress:72.9 % Speed(reviews/sec): 560. Correct: 12676 Trained: 17501 Training_accuracy: 72.\n",
      "Progress:83.3 % Speed(reviews/sec): 560. Correct: 14678 Trained: 20001 Training_accuracy: 73.\n",
      "Progress:93.7 % Speed(reviews/sec): 561. Correct: 16710 Trained: 22501 Training_accuracy: 74."
     ]
    }
   ],
   "source": [
    "# training our model\n",
    "mlp.train(reviews_raw[:-1000],labels_raw[:-1000])\n"
   ]
  },
  {
   "cell_type": "code",
   "execution_count": 37,
   "metadata": {},
   "outputs": [
    {
     "name": "stdout",
     "output_type": "stream",
     "text": [
      "\n",
      "Progress:0.0 % Speed(reviews/sec): 0.0 Correct: 1 Trained: 1 Training_accuracy: 100\n",
      "Progress:10.4 % Speed(reviews/sec): 529. Correct: 1589 Trained: 2501 Training_accuracy: 63.\n",
      "Progress:20.8 % Speed(reviews/sec): 529. Correct: 3376 Trained: 5001 Training_accuracy: 67.\n",
      "Progress:31.2 % Speed(reviews/sec): 535. Correct: 5294 Trained: 7501 Training_accuracy: 70.\n",
      "Progress:41.6 % Speed(reviews/sec): 536. Correct: 7273 Trained: 10001 Training_accuracy: 72.\n",
      "Progress:52.0 % Speed(reviews/sec): 538. Correct: 9246 Trained: 12501 Training_accuracy: 73.\n",
      "Progress:62.5 % Speed(reviews/sec): 539. Correct: 11216 Trained: 15001 Training_accuracy: 74.\n",
      "Progress:72.9 % Speed(reviews/sec): 539. Correct: 13150 Trained: 17501 Training_accuracy: 75.\n",
      "Progress:83.3 % Speed(reviews/sec): 541. Correct: 15199 Trained: 20001 Training_accuracy: 75.\n",
      "Progress:93.7 % Speed(reviews/sec): 544. Correct: 17240 Trained: 22501 Training_accuracy: 76."
     ]
    }
   ],
   "source": [
    "# training with lower lr\n",
    "mlp = SentimentAnalysisNetwork(reviews_raw[:-1000],labels_raw[:-1000], learning_rate=0.01)\n",
    "mlp.train(reviews_raw[:-1000],labels_raw[:-1000])\n"
   ]
  },
  {
   "cell_type": "code",
   "execution_count": null,
   "metadata": {},
   "outputs": [
    {
     "name": "stdout",
     "output_type": "stream",
     "text": [
      "Username for 'https://github.com': "
     ]
    }
   ],
   "source": []
  },
  {
   "cell_type": "markdown",
   "metadata": {},
   "source": [
    "## Reducing Noise"
   ]
  },
  {
   "cell_type": "code",
   "execution_count": 42,
   "metadata": {},
   "outputs": [],
   "source": [
    "#Here we will only check if the word apears on the review rather than counting the number of times\n"
   ]
  },
  {
   "cell_type": "code",
   "execution_count": 41,
   "metadata": {},
   "outputs": [],
   "source": [
    "import time\n",
    "import sys\n",
    "import numpy as np\n",
    "\n",
    "\n",
    "class SentimentAnalysisNetwork:\n",
    "\n",
    "    def __init__(self, reviews, labels, hidden_nodes=10, learning_rate=0.10):\n",
    "\n",
    "        \"\"\"\n",
    "        Create a sentimentAnalysisNetwirk with the given settings.\n",
    "        Args:\n",
    "          reviews(list) - list of reviews to be used for training\n",
    "          lables(list) - list of positive/negative labels associated with the given review\n",
    "          hidden_nodes(int) -  number of nodes to create in hidden layer\n",
    "          learning_rate(float) - learning rate to use for training(default = 0.10)\n",
    "\n",
    "        \"\"\"\n",
    "        np.random.seed(1)\n",
    "\n",
    "        # preprocess the reviews-> array and labels(convert positive->1 and negative->0)\n",
    "        self.pre_process_data(reviews=reviews, labels=labels)\n",
    "\n",
    "        # Buid the neural network with the above settings\n",
    "        self.init_network(input_nodes=self.review_vocab_size, hidden_nodes=hidden_nodes, output_nodes=1,\n",
    "                          learning_rate=learning_rate)\n",
    "\n",
    "    def pre_process_data(self, reviews, labels):\n",
    "\n",
    "        # populate review_vocab with all the words from given reviews. This would be a huge list\n",
    "        review_vocab = set()\n",
    "        for review in reviews:\n",
    "            for word in review.split():\n",
    "                review_vocab.add(word)\n",
    "\n",
    "        # convert the review_vocab to set so that we can access word via index and create a mapping\n",
    "        self.review_vocab = list(review_vocab)\n",
    "\n",
    "        # populate label_vocab with all the labels\n",
    "        label_vocab = set()\n",
    "        for label in labels:\n",
    "            label_vocab.add(label)\n",
    "\n",
    "        # convert the label_vocab to list so that we can access using indices\n",
    "        self.label_vocab = list(label_vocab)\n",
    "\n",
    "        # store the length of review and label vocab\n",
    "        self.review_vocab_size = len(self.review_vocab)\n",
    "        self.label_vocab_size = len(self.label_vocab)\n",
    "\n",
    "        # create a dictionary that will map all the words in self.vocab_review to their positions\n",
    "        self.word2index = {}\n",
    "        for i, word in enumerate(self.review_vocab):\n",
    "            self.word2index[word] = i\n",
    "\n",
    "        # create a dictionary of labels mapped to index\n",
    "        self.label2index = {}\n",
    "        for i, label in enumerate(self.label_vocab):\n",
    "            self.label2index[label] = 1\n",
    "\n",
    "    def init_network(self, input_nodes, hidden_nodes, output_nodes, learning_rate):\n",
    "        \"\"\"\n",
    "        Initializes the Neural Netowrk with the provided settings\n",
    "        Args:\n",
    "          input_nodes(int) - size of input node\n",
    "          hidden_nodes(int) - size of hidden node\n",
    "          output_nodes(int) - size of output_node\n",
    "          learning_rate(float) - learning rate to train the neural network\n",
    "        \"\"\"\n",
    "\n",
    "        self.input_nodes = input_nodes\n",
    "        self.hidden_nodes = hidden_nodes\n",
    "        self.output_nodes = output_nodes\n",
    "\n",
    "        # store the learning rate\n",
    "        self.learning_rate = learning_rate\n",
    "\n",
    "        # initialize the weights between the input_layer and hidden_layer\n",
    "        self.weights_0_1 = np.zeros((self.input_nodes, self.hidden_nodes))\n",
    "\n",
    "        # initialize the weights between hidden_node and\n",
    "        # here loc  = mean, scale = standard deviation\n",
    "        self.weights_1_2 = np.random.normal(loc=0.0, scale=self.hidden_nodes ** -0.5,\n",
    "                                            size=(self.hidden_nodes, self.output_nodes))\n",
    "\n",
    "        # the input layerm a two -dimensional matrix with 1 * input_nodes\n",
    "        self.layer_0 = np.zeros((1, input_nodes))\n",
    "\n",
    "    def update_input_layer(self, review):\n",
    "        # clear out previous state, rest the layer to be all 0s\n",
    "        self.layer_0 *= 0\n",
    "        for word in review.split(' '):\n",
    "            if word in self.word2index.keys():\n",
    "                self.layer_0[0][self.word2index[word]] = 1\n",
    "\n",
    "    def get_target_for_label(self, label):\n",
    "        if label == 'POSITIVE':\n",
    "            return 1\n",
    "        else:\n",
    "            return 0\n",
    "\n",
    "    def sigmoid(self, x):\n",
    "        return 1 / (1 + np.exp(-x))\n",
    "\n",
    "    def sigmoid_output_2_derivative(self, output):\n",
    "        return output * (1 - output)\n",
    "\n",
    "    def train(self, training_reviews, training_labels):\n",
    "\n",
    "        # make sure we have a matching number of reviews and labels\n",
    "        assert (len(training_reviews) == len(training_labels))\n",
    "\n",
    "        # keep track of correct predictions to display accuracy during training\n",
    "        correct_so_far = 0\n",
    "\n",
    "        # remember the time when we started time statistics\n",
    "        start = time.time()\n",
    "\n",
    "        # loop through alll the given reviews and run a forward pass and then backward pass\n",
    "        # updating weights for every item\n",
    "        for i in range(len(training_reviews)):\n",
    "\n",
    "            # get the next review and its correct_label\n",
    "            review = training_reviews[i]\n",
    "            label = training_labels[i]\n",
    "\n",
    "            #### forward pass\n",
    "            self.update_input_layer(review)\n",
    "\n",
    "            # hidden layer\n",
    "            layer_1 = self.layer_0.dot(self.weights_0_1)\n",
    "            # output layer\n",
    "            layer_2 = self.sigmoid(layer_1.dot(self.weights_1_2))\n",
    "            # ouput error\n",
    "            layer_2_error = layer_2 - self.get_target_for_label(label)\n",
    "            # output error is difference between desired output and actual output\n",
    "\n",
    "            layer_2_delta = layer_2_error * self.sigmoid_output_2_derivative(layer_2)\n",
    "\n",
    "            # backpropagated error\n",
    "            layer_1_error = layer_2_delta.dot(self.weights_1_2.T)  # errors propagated to the hidden layer\n",
    "            layer_1_delta = layer_1_error  # hidden layer gradients - no nonlinearity so its the same as the error\n",
    "\n",
    "            # update the weights\n",
    "            self.weights_1_2 -= layer_1.T.dot(layer_2_delta) * self.learning_rate  # update hidden to output weights\n",
    "            # with gradient step\n",
    "\n",
    "            self.weights_0_1 -= self.layer_0.T.dot(layer_1_delta) * self.learning_rate  # update input to\n",
    "            # hidden weights with gradient step\n",
    "\n",
    "            # keep track of correct predictions\n",
    "            if layer_2 >= 0.5 and label == 'POSITIVE':\n",
    "                correct_so_far += 1\n",
    "            elif layer_2 < 0.5 and label == 'NEGATIVE':\n",
    "                correct_so_far += 1\n",
    "\n",
    "            # for debugging purposes, print out our prediction accuracy and speed\n",
    "            # thorughout the training process\n",
    "            elapsed_time = float(time.time() - start)\n",
    "            reviews_per_second = i / elapsed_time if elapsed_time > 0 else 0\n",
    "\n",
    "            \n",
    "            if i % 2500 == 0:\n",
    "                sys.stdout.write(f'\\nProgress:{str(100 * i / float(len(training_reviews)))[:4]} %'\n",
    "                             f' Speed(reviews/sec): {str(reviews_per_second)[:4]}'\n",
    "                             f' Correct: {correct_so_far} Trained: {i + 1}'\n",
    "                             f' Training_accuracy: {str(correct_so_far * 100 / float(1 + i))[:3]}'\n",
    "                             )\n",
    "\n",
    "    def test(self, testing_reviews, testing_labels):\n",
    "        \"\"\"\n",
    "        Attempts to predit the label for the given testing reviews\n",
    "        and uses the test_labels to calcualte the accuracy of those prodections.\n",
    "        \"\"\"\n",
    "        # keep track of how many correct predictions we make\n",
    "        correct = 0\n",
    "\n",
    "        # log time to calculate number of reviews processed per second\n",
    "        start = time.time()\n",
    "\n",
    "        # loop through each  of the given review and call run to predict its label\n",
    "        for i in range(len(testing_reviews)):\n",
    "            pred = self.run(testing_reviews[i])\n",
    "            if pred == testing_labels[i]:\n",
    "                correct += 1\n",
    "\n",
    "            # for debug purpose print out our prediction accuracy and speed\n",
    "            elapsed_time = float(time.time() - start)\n",
    "            reviews_per_second = i / elapsed_time if elapsed_time > 0 else 0\n",
    "            \n",
    "            if(i % 2500 == 0):\n",
    "                print(\"\\rProgress:\" + str(100 * i / float(len(testing_reviews)))[:4] \\\n",
    "                             + \"% Speed(reviews/sec):\" + str(reviews_per_second)[0:5] \\\n",
    "                             + \" #Correct:\" + str(correct) + \" #Tested:\" + str(i + 1) \\\n",
    "                             + \" Testing Accuracy:\" + str(correct * 100 / float(i + 1))[:4] + \"%\")\n",
    "\n",
    "    def run(self, review):\n",
    "        \"\"\"\n",
    "        Returns a positive or negative prediction for the given review\n",
    "        \"\"\"\n",
    "\n",
    "        # run a forward pass like in the train function\n",
    "        self.update_input_layer(review.lower())\n",
    "\n",
    "        # hidden layer\n",
    "        layer_1 = self.layer_0.dot(self.weights_0_1)\n",
    "\n",
    "        # output layer\n",
    "        layer_2 = self.sigmoid(layer_1.dot(self.weights_1_2))\n",
    "\n",
    "        if layer_2[0] >= 0.5:\n",
    "            return \"POSITIVE\"\n",
    "        else:\n",
    "            return \"NEGATIVE\"\n"
   ]
  },
  {
   "cell_type": "code",
   "execution_count": 42,
   "metadata": {},
   "outputs": [
    {
     "name": "stdout",
     "output_type": "stream",
     "text": [
      "\n",
      "Progress:0.0 % Speed(reviews/sec): 0.0 Correct: 1 Trained: 1 Training_accuracy: 100\n",
      "Progress:10.4 % Speed(reviews/sec): 564. Correct: 1948 Trained: 2501 Training_accuracy: 77.\n",
      "Progress:20.8 % Speed(reviews/sec): 560. Correct: 4011 Trained: 5001 Training_accuracy: 80.\n",
      "Progress:31.2 % Speed(reviews/sec): 560. Correct: 6131 Trained: 7501 Training_accuracy: 81.\n",
      "Progress:41.6 % Speed(reviews/sec): 560. Correct: 8286 Trained: 10001 Training_accuracy: 82.\n",
      "Progress:52.0 % Speed(reviews/sec): 559. Correct: 10446 Trained: 12501 Training_accuracy: 83.\n",
      "Progress:62.5 % Speed(reviews/sec): 559. Correct: 12567 Trained: 15001 Training_accuracy: 83.\n",
      "Progress:72.9 % Speed(reviews/sec): 560. Correct: 14692 Trained: 17501 Training_accuracy: 83.\n",
      "Progress:83.3 % Speed(reviews/sec): 561. Correct: 16883 Trained: 20001 Training_accuracy: 84.\n",
      "Progress:93.7 % Speed(reviews/sec): 561. Correct: 19064 Trained: 22501 Training_accuracy: 84."
     ]
    }
   ],
   "source": [
    "# training with lower lr\n",
    "mlp = SentimentAnalysisNetwork(reviews_raw[:-1000],labels_raw[:-1000], learning_rate=0.01)\n",
    "mlp.train(reviews_raw[:-1000],labels_raw[:-1000])\n"
   ]
  },
  {
   "cell_type": "code",
   "execution_count": 43,
   "metadata": {},
   "outputs": [],
   "source": [
    "# Obviously the accuracy increased, I think it was because, our Neural Network gave more priority to stop words, such as .,the,is etc\n",
    "# the accuract should increase if we remove stop words\n"
   ]
  },
  {
   "cell_type": "code",
   "execution_count": 45,
   "metadata": {},
   "outputs": [
    {
     "name": "stdout",
     "output_type": "stream",
     "text": [
      "Progress:0.0% Speed(reviews/sec):0.0 #Correct:1 #Tested:1 Testing Accuracy:100.%\n",
      "Progress:10.4% Speed(reviews/sec):2499. #Correct:2253 #Tested:2501 Testing Accuracy:90.0%\n",
      "Progress:20.8% Speed(reviews/sec):2490. #Correct:4476 #Tested:5001 Testing Accuracy:89.5%\n",
      "Progress:31.2% Speed(reviews/sec):2504. #Correct:6702 #Tested:7501 Testing Accuracy:89.3%\n",
      "Progress:41.6% Speed(reviews/sec):2524. #Correct:8942 #Tested:10001 Testing Accuracy:89.4%\n",
      "Progress:52.0% Speed(reviews/sec):2525. #Correct:11194 #Tested:12501 Testing Accuracy:89.5%\n",
      "Progress:62.5% Speed(reviews/sec):2517. #Correct:13447 #Tested:15001 Testing Accuracy:89.6%\n",
      "Progress:72.9% Speed(reviews/sec):2513. #Correct:15717 #Tested:17501 Testing Accuracy:89.8%\n",
      "Progress:83.3% Speed(reviews/sec):2508. #Correct:18047 #Tested:20001 Testing Accuracy:90.2%\n",
      "Progress:93.7% Speed(reviews/sec):2494. #Correct:20361 #Tested:22501 Testing Accuracy:90.4%\n"
     ]
    }
   ],
   "source": [
    "mlp.test(reviews_raw[:-1000],labels_raw[:-1000])\n"
   ]
  },
  {
   "cell_type": "markdown",
   "metadata": {},
   "source": [
    "## Analyzing Inefficiencies in our Network¶\n"
   ]
  },
  {
   "cell_type": "code",
   "execution_count": 46,
   "metadata": {},
   "outputs": [
    {
     "data": {
      "image/png": "[encoded data removed]",
      "text/plain": [
       "<IPython.core.display.Image object>"
      ]
     },
     "execution_count": 46,
     "metadata": {},
     "output_type": "execute_result"
    }
   ],
   "source": [
    "Image(filename='sentiment_network_sparse.png')\n"
   ]
  },
  {
   "cell_type": "code",
   "execution_count": 47,
   "metadata": {},
   "outputs": [],
   "source": [
    "# Here we can see that in input layer we have lots of zeros and these zeros donot contribute anything to computing layer 1\n",
    "# the result would be same if we only considered the nodes with value 1 while calculating hidden layer. This would increase the speed of our network significantly\n",
    "\n",
    "\n"
   ]
  },
  {
   "cell_type": "markdown",
   "metadata": {},
   "source": [
    "## Project 5: Making our Network More Efficient\n"
   ]
  },
  {
   "cell_type": "code",
   "execution_count": 51,
   "metadata": {},
   "outputs": [],
   "source": [
    "import time\n",
    "import sys\n",
    "import numpy as np\n",
    "\n",
    "\n",
    "class SentimentAnalysisNetwork:\n",
    "\n",
    "    def __init__(self, reviews, labels, hidden_nodes=10, learning_rate=0.10):\n",
    "\n",
    "        \"\"\"\n",
    "        Create a sentimentAnalysisNetwirk with the given settings.\n",
    "        Args:\n",
    "          reviews(list) - list of reviews to be used for training\n",
    "          lables(list) - list of positive/negative labels associated with the given review\n",
    "          hidden_nodes(int) -  number of nodes to create in hidden layer\n",
    "          learning_rate(float) - learning rate to use for training(default = 0.10)\n",
    "\n",
    "        \"\"\"\n",
    "        np.random.seed(1)\n",
    "\n",
    "        # preprocess the reviews-> array and labels(convert positive->1 and negative->0)\n",
    "        self.pre_process_data(reviews=reviews, labels=labels)\n",
    "\n",
    "        # Buid the neural network with the above settings\n",
    "        self.init_network(input_nodes=self.review_vocab_size, hidden_nodes=hidden_nodes, output_nodes=1,\n",
    "                          learning_rate=learning_rate)\n",
    "\n",
    "    def pre_process_data(self, reviews, labels):\n",
    "\n",
    "        # populate review_vocab with all the words from given reviews. This would be a huge list\n",
    "        review_vocab = set()\n",
    "        for review in reviews:\n",
    "            for word in review.split():\n",
    "                review_vocab.add(word)\n",
    "\n",
    "        # convert the review_vocab to set so that we can access word via index and create a mapping\n",
    "        self.review_vocab = list(review_vocab)\n",
    "\n",
    "        # populate label_vocab with all the labels\n",
    "        label_vocab = set()\n",
    "        for label in labels:\n",
    "            label_vocab.add(label)\n",
    "\n",
    "        # convert the label_vocab to list so that we can access using indices\n",
    "        self.label_vocab = list(label_vocab)\n",
    "\n",
    "        # store the length of review and label vocab\n",
    "        self.review_vocab_size = len(self.review_vocab)\n",
    "        self.label_vocab_size = len(self.label_vocab)\n",
    "\n",
    "        # create a dictionary that will map all the words in self.vocab_review to their positions\n",
    "        self.word2index = {}\n",
    "        for i, word in enumerate(self.review_vocab):\n",
    "            self.word2index[word] = i\n",
    "\n",
    "        # create a dictionary of labels mapped to index\n",
    "        self.label2index = {}\n",
    "        for i, label in enumerate(self.label_vocab):\n",
    "            self.label2index[label] = 1\n",
    "\n",
    "    def init_network(self, input_nodes, hidden_nodes, output_nodes, learning_rate):\n",
    "        \"\"\"\n",
    "        Initializes the Neural Netowrk with the provided settings\n",
    "        Args:\n",
    "          input_nodes(int) - size of input node\n",
    "          hidden_nodes(int) - size of hidden node\n",
    "          output_nodes(int) - size of output_node\n",
    "          learning_rate(float) - learning rate to train the neural network\n",
    "        \"\"\"\n",
    "\n",
    "        self.input_nodes = input_nodes\n",
    "        self.hidden_nodes = hidden_nodes\n",
    "        self.output_nodes = output_nodes\n",
    "\n",
    "        # store the learning rate\n",
    "        self.learning_rate = learning_rate\n",
    "\n",
    "        # initialize the weights between the input_layer and hidden_layer\n",
    "        self.weights_0_1 = np.zeros((self.input_nodes, self.hidden_nodes))\n",
    "\n",
    "        # initialize the weights between hidden_node and\n",
    "        # here loc  = mean, scale = standard deviation\n",
    "        self.weights_1_2 = np.random.normal(loc=0.0, scale=self.hidden_nodes ** -0.5,\n",
    "                                            size=(self.hidden_nodes, self.output_nodes))\n",
    "\n",
    "        self.layer_1 = np.zeros((1,hidden_nodes))\n",
    "    \n",
    "    def get_target_for_label(self, label):\n",
    "        if label == 'POSITIVE':\n",
    "            return 1\n",
    "        else:\n",
    "            return 0\n",
    "\n",
    "    def sigmoid(self, x):\n",
    "        return 1 / (1 + np.exp(-x))\n",
    "\n",
    "    def sigmoid_output_2_derivative(self, output):\n",
    "        return output * (1 - output)\n",
    "\n",
    "    def train(self, training_reviews_raw, training_labels):\n",
    "        \n",
    "        training_reviews  = list()\n",
    "        for review in training_reviews_raw:\n",
    "            indices = set()\n",
    "            for word in review.split():\n",
    "                if word in self.word2index.keys():\n",
    "                    indices.add(self.word2index[word])\n",
    "            training_reviews.append(list(indices))\n",
    "            \n",
    "        # make sure we have a matching number of reviews and labels\n",
    "        assert (len(training_reviews) == len(training_labels))\n",
    "\n",
    "        # keep track of correct predictions to display accuracy during training\n",
    "        correct_so_far = 0\n",
    "\n",
    "        # remember the time when we started time statistics\n",
    "        start = time.time()\n",
    "\n",
    "        # loop through alll the given reviews and run a forward pass and then backward pass\n",
    "        # updating weights for every item\n",
    "        for i in range(len(training_reviews)):\n",
    "\n",
    "            # get the next review and its correct_label\n",
    "            review = training_reviews[i]\n",
    "            label = training_labels[i]\n",
    "\n",
    "            #### forward pass\n",
    "            self.layer_1 *= 0 \n",
    "            for index in review:\n",
    "                self.layer_1 +=self.weights_0_1[index]\n",
    "            # hidden layer\n",
    "            # output layer\n",
    "            layer_2 = self.sigmoid(self.layer_1.dot(self.weights_1_2))\n",
    "            # ouput error\n",
    "            layer_2_error = layer_2 - self.get_target_for_label(label)\n",
    "            # output error is difference between desired output and actual output\n",
    "\n",
    "            layer_2_delta = layer_2_error * self.sigmoid_output_2_derivative(layer_2)\n",
    "\n",
    "            # backpropagated error\n",
    "            layer_1_error = layer_2_delta.dot(self.weights_1_2.T)  # errors propagated to the hidden layer\n",
    "            layer_1_delta = layer_1_error  # hidden layer gradients - no nonlinearity so its the same as the error\n",
    "\n",
    "            # update the weights\n",
    "            self.weights_1_2 -= self.layer_1.T.dot(layer_2_delta) * self.learning_rate  # update hidden to output weights\n",
    "            # with gradient step\n",
    "            # only update the weights that were used in forward pass\n",
    "            for index in review:\n",
    "                self.weights_0_1[index] -= layer_1_delta[0] * self.learning_rate\n",
    "            # hidden weights with gradient step\n",
    "\n",
    "            # keep track of correct predictions\n",
    "            if layer_2 >= 0.5 and label == 'POSITIVE':\n",
    "                correct_so_far += 1\n",
    "            elif layer_2 < 0.5 and label == 'NEGATIVE':\n",
    "                correct_so_far += 1\n",
    "\n",
    "            # for debugging purposes, print out our prediction accuracy and speed\n",
    "            # thorughout the training process\n",
    "            elapsed_time = float(time.time() - start)\n",
    "            reviews_per_second = i / elapsed_time if elapsed_time > 0 else 0\n",
    "\n",
    "            \n",
    "            if i % 2500 == 0:\n",
    "                sys.stdout.write(f'\\nProgress:{str(100 * i / float(len(training_reviews)))[:4]} %'\n",
    "                             f' Speed(reviews/sec): {str(reviews_per_second)[:4]}'\n",
    "                             f' Correct: {correct_so_far} Trained: {i + 1}'\n",
    "                             f' Training_accuracy: {str(correct_so_far * 100 / float(1 + i))[:3]}'\n",
    "                             )\n",
    "\n",
    "    def test(self, testing_reviews, testing_labels):\n",
    "        \"\"\"\n",
    "        Attempts to predit the label for the given testing reviews\n",
    "        and uses the test_labels to calcualte the accuracy of those prodections.\n",
    "        \"\"\"\n",
    "        # keep track of how many correct predictions we make\n",
    "        correct = 0\n",
    "\n",
    "        # log time to calculate number of reviews processed per second\n",
    "        start = time.time()\n",
    "\n",
    "        # loop through each  of the given review and call run to predict its label\n",
    "        for i in range(len(testing_reviews)):\n",
    "            pred = self.run(testing_reviews[i])\n",
    "            if pred == testing_labels[i]:\n",
    "                correct += 1\n",
    "\n",
    "            # for debug purpose print out our prediction accuracy and speed\n",
    "            elapsed_time = float(time.time() - start)\n",
    "            reviews_per_second = i / elapsed_time if elapsed_time > 0 else 0\n",
    "            \n",
    "            if(i % 2500 == 0):\n",
    "                print(\"\\rProgress:\" + str(100 * i / float(len(testing_reviews)))[:4] \\\n",
    "                             + \"% Speed(reviews/sec):\" + str(reviews_per_second)[0:5] \\\n",
    "                             + \" #Correct:\" + str(correct) + \" #Tested:\" + str(i + 1) \\\n",
    "                             + \" Testing Accuracy:\" + str(correct * 100 / float(i + 1))[:4] + \"%\")\n",
    "\n",
    "    def run(self, review):\n",
    "        \"\"\"\n",
    "        Returns a positive or negative prediction for the given review\n",
    "        \"\"\"\n",
    "\n",
    "        # run a forward pass like in the train function\n",
    "        self.layer_1 *= 0\n",
    "        unique_indices = set()\n",
    "        for word in review.lower().split():\n",
    "            if word in self.word2index.keys():\n",
    "                unique_indices.add(self.word2index[word])\n",
    "        for index in unique_indices:\n",
    "            self.layer_1 += self.weights_0_1[index]\n",
    "            \n",
    "\n",
    "        # hidden layer\n",
    "#         layer_1 = self.layer_0.dot(self.weights_0_1)\n",
    "\n",
    "        # output layer\n",
    "        layer_2 = self.sigmoid(self.layer_1.dot(self.weights_1_2))\n",
    "\n",
    "        if layer_2[0] >= 0.5:\n",
    "            return \"POSITIVE\"\n",
    "        else:\n",
    "            return \"NEGATIVE\"\n"
   ]
  },
  {
   "cell_type": "code",
   "execution_count": 52,
   "metadata": {},
   "outputs": [
    {
     "name": "stdout",
     "output_type": "stream",
     "text": [
      "\n",
      "Progress:0.0 % Speed(reviews/sec): 0.0 Correct: 1 Trained: 1 Training_accuracy: 100\n",
      "Progress:10.4 % Speed(reviews/sec): 1492 Correct: 1948 Trained: 2501 Training_accuracy: 77.\n",
      "Progress:20.8 % Speed(reviews/sec): 1451 Correct: 4011 Trained: 5001 Training_accuracy: 80.\n",
      "Progress:31.2 % Speed(reviews/sec): 1450 Correct: 6131 Trained: 7501 Training_accuracy: 81.\n",
      "Progress:41.6 % Speed(reviews/sec): 1460 Correct: 8286 Trained: 10001 Training_accuracy: 82.\n",
      "Progress:52.0 % Speed(reviews/sec): 1456 Correct: 10446 Trained: 12501 Training_accuracy: 83.\n",
      "Progress:62.5 % Speed(reviews/sec): 1456 Correct: 12567 Trained: 15001 Training_accuracy: 83.\n",
      "Progress:72.9 % Speed(reviews/sec): 1453 Correct: 14692 Trained: 17501 Training_accuracy: 83.\n",
      "Progress:83.3 % Speed(reviews/sec): 1449 Correct: 16883 Trained: 20001 Training_accuracy: 84.\n",
      "Progress:93.7 % Speed(reviews/sec): 1446 Correct: 19064 Trained: 22501 Training_accuracy: 84."
     ]
    }
   ],
   "source": [
    "# training with lower lr\n",
    "mlp = SentimentAnalysisNetwork(reviews_raw[:-1000],labels_raw[:-1000], learning_rate=0.01)\n",
    "mlp.train(reviews_raw[:-1000],labels_raw[:-1000])\n",
    "# trainin speed boosted"
   ]
  },
  {
   "cell_type": "code",
   "execution_count": 53,
   "metadata": {},
   "outputs": [
    {
     "name": "stdout",
     "output_type": "stream",
     "text": [
      "Progress:0.0% Speed(reviews/sec):0.0 #Correct:1 #Tested:1 Testing Accuracy:100.%\n",
      "Progress:10.4% Speed(reviews/sec):2775. #Correct:2253 #Tested:2501 Testing Accuracy:90.0%\n",
      "Progress:20.8% Speed(reviews/sec):2711. #Correct:4476 #Tested:5001 Testing Accuracy:89.5%\n",
      "Progress:31.2% Speed(reviews/sec):2710. #Correct:6702 #Tested:7501 Testing Accuracy:89.3%\n",
      "Progress:41.6% Speed(reviews/sec):2846. #Correct:8942 #Tested:10001 Testing Accuracy:89.4%\n",
      "Progress:52.0% Speed(reviews/sec):2927. #Correct:11194 #Tested:12501 Testing Accuracy:89.5%\n",
      "Progress:62.5% Speed(reviews/sec):2989. #Correct:13447 #Tested:15001 Testing Accuracy:89.6%\n",
      "Progress:72.9% Speed(reviews/sec):3035. #Correct:15717 #Tested:17501 Testing Accuracy:89.8%\n",
      "Progress:83.3% Speed(reviews/sec):3062. #Correct:18047 #Tested:20001 Testing Accuracy:90.2%\n",
      "Progress:93.7% Speed(reviews/sec):3086. #Correct:20361 #Tested:22501 Testing Accuracy:90.4%\n"
     ]
    }
   ],
   "source": [
    "mlp.test(reviews_raw[:-1000],labels_raw[:-1000])\n"
   ]
  },
  {
   "cell_type": "code",
   "execution_count": null,
   "metadata": {},
   "outputs": [],
   "source": []
  }
 ],
 "metadata": {
  "colab": {
   "include_colab_link": true,
   "name": "Part_1_sentiment analysis with numpy.ipynb",
   "provenance": []
  },
  "kernelspec": {
   "display_name": "Python 3 (Intel, 2019 update 2)",
   "language": "python",
   "name": "c009-intel_distribution_of_python_3_2019u2"
  },
  "language_info": {
   "codemirror_mode": {
    "name": "ipython",
    "version": 3
   },
   "file_extension": ".py",
   "mimetype": "text/x-python",
   "name": "python",
   "nbconvert_exporter": "python",
   "pygments_lexer": "ipython3",
   "version": "3.6.8"
  }
 },
 "nbformat": 4,
 "nbformat_minor": 1
}
