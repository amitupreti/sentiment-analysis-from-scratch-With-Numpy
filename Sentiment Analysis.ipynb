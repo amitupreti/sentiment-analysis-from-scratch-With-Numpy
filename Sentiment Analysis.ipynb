{
 "cells": [
  {
   "cell_type": "code",
   "execution_count": 5,
   "metadata": {},
   "outputs": [],
   "source": [
    "import pandas as pd\n",
    "import numpy as np\n",
    "import wordcloud"
   ]
  },
  {
   "cell_type": "code",
   "execution_count": null,
   "metadata": {},
   "outputs": [],
   "source": [
    "with open('reviews.txt','r') as f:\n",
    "    reviews = f.read().splitlines()\n",
    "with open('labels.txt','r') as f:\n",
    "    labels = f.read().splitlines()\n",
    "    "
   ]
  },
  {
   "cell_type": "code",
   "execution_count": null,
   "metadata": {},
   "outputs": [],
   "source": [
    "print(reviews[0])\n",
    "print(labels[0])"
   ]
  },
  {
   "cell_type": "code",
   "execution_count": null,
   "metadata": {},
   "outputs": [],
   "source": [
    "# Lets convert the data into a pandas dataframe. just so that it will be easy for us to handle later\n",
    "data = pd.DataFrame({'review':reviews,'label':labels})"
   ]
  },
  {
   "cell_type": "code",
   "execution_count": null,
   "metadata": {},
   "outputs": [],
   "source": [
    "data.head()\n"
   ]
  },
  {
   "cell_type": "code",
   "execution_count": null,
   "metadata": {},
   "outputs": [],
   "source": [
    "# ok Here's the plan. Since we know Machine Learning is just mathematics\n",
    "# and Neural Networks are bunch of matrix muliplications. We cannot perform math operations such as matmul on \n",
    "# text data. so our first task is to represent the textual data to numerical data\n",
    "\n",
    "# since we have only 2 labels, wee can simply represent the label negative as 0 and the label positive as 1.\n",
    "\n",
    "# for the reviews. One idea would be to create a huge 1d array of all the words from all the reviews(ofcourse without duplicates)\n",
    "# and assign a integer as position for each word.\n",
    "\n",
    "# now to represent each review we can set the the matrxi that we created to 1 at positions where word matches \n",
    "\n",
    "# example\n",
    "\n",
    "# use an image to represent this. Words bad here. Unclear meaning. Any way lets go ahead and do it."
   ]
  },
  {
   "cell_type": "code",
   "execution_count": null,
   "metadata": {},
   "outputs": [],
   "source": [
    "\"\"\"Before getting on with the sentiment analysis lets take few steps back and understand our data. \n",
    "lets analyze the positive and negative and try to understand what makes a review positive or negative.\n",
    "Analyse 5 positive and 5 negative words\n",
    "\"\"\"\n",
    "def pretty_print_reviewe(data,label):\n",
    "    \"\"\"\n",
    "    Prints 5 review for the given label\n",
    "    \"\"\"\n",
    "    assert label in ['positive','negative']\n",
    "    reviews= data[data['label']==label]['review'][:5]\n",
    "    print('-'*30)\n",
    "    print(label.upper())\n",
    "    print('-'*30)\n",
    "    for i,review in iterate(reviews):\n",
    "        print(i,review[:150])\n",
    "    print('-'*30)\n",
    "\n"
   ]
  },
  {
   "cell_type": "code",
   "execution_count": null,
   "metadata": {},
   "outputs": [],
   "source": [
    "pretty_print_reviewe(data,'positive')"
   ]
  },
  {
   "cell_type": "code",
   "execution_count": null,
   "metadata": {},
   "outputs": [],
   "source": []
  }
 ],
 "metadata": {
  "kernelspec": {
   "display_name": "Python 3 (Intel, 2019 update 2)",
   "language": "python",
   "name": "c009-intel_distribution_of_python_3_2019u2"
  },
  "language_info": {
   "codemirror_mode": {
    "name": "ipython",
    "version": 3
   },
   "file_extension": ".py",
   "mimetype": "text/x-python",
   "name": "python",
   "nbconvert_exporter": "python",
   "pygments_lexer": "ipython3",
   "version": "3.6.8"
  }
 },
 "nbformat": 4,
 "nbformat_minor": 2
}
